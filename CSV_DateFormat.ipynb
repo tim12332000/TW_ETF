{
 "cells": [
  {
   "cell_type": "code",
   "execution_count": null,
   "metadata": {},
   "outputs": [],
   "source": [
    "import pandas as pd\n",
    "\n",
    "# 讀取 CSV，因為日期格式非 ISO 標準，所以先當作字串讀入\n",
    "df = pd.read_csv('date_csv_src.csv', dtype=str)\n",
    "\n",
    "# 使用 pd.to_datetime 並指定原始格式，將字串轉換成日期型別\n",
    "# errors='coerce' 若解析失敗則會產生 NaT，可根據需求調整\n",
    "df['Date'] = pd.to_datetime(df['Date'], format='%d/%m/%Y', errors='coerce')\n",
    "\n",
    "# 將日期格式轉換成目標格式的字串\n",
    "df['Date'] = df['Date'].dt.strftime('%Y/%m/%d')\n",
    "\n",
    "# 寫入新的 CSV 檔案\n",
    "df.to_csv('date_csv_dst.csv', index=False, encoding='utf-8')\n",
    "\n",
    "print(\"轉換完成，結果存於 date_csv_dst.csv\")\n"
   ]
  }
 ],
 "metadata": {
  "language_info": {
   "name": "python"
  }
 },
 "nbformat": 4,
 "nbformat_minor": 2
}
